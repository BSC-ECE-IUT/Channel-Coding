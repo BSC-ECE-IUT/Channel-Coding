{
 "cells": [
  {
   "cell_type": "code",
   "execution_count": 1,
   "metadata": {},
   "outputs": [],
   "source": [
    "import numpy as np \n",
    "from functools import reduce"
   ]
  },
  {
   "cell_type": "code",
   "execution_count": 2,
   "metadata": {},
   "outputs": [],
   "source": [
    "def xor(a, b):\n",
    "    return np.logical_xor(a, b, dtype='uint8').astype(\"uint8\")\n",
    "\n",
    "def and_(a, b):\n",
    "    return np.logical_and(a, b, dtype='uint8').astype(\"uint8\")\n",
    "\n",
    "\n",
    "def strip_zeros(a):\n",
    "    return np.trim_zeros(a, trim='b')"
   ]
  },
  {
   "cell_type": "code",
   "execution_count": 3,
   "metadata": {},
   "outputs": [],
   "source": [
    "def gf2_add(a, b):  \n",
    "    a, b = strip_zeros(a), strip_zeros(b)\n",
    "\n",
    "    N = len(a)\n",
    "    D = len(b)   \n",
    "    F = min(N,D)\n",
    "\n",
    "    if N == D:\n",
    "        res = xor(a, b)\n",
    "    \n",
    "    elif N>D:\n",
    "        res = np.concatenate((xor(a[:F], b), a[F:]))\n",
    "    else:       \n",
    "        res = np.concatenate((xor(b[:F], a), b[F:]))\n",
    "\n",
    "    return strip_zeros(res)"
   ]
  },
  {
   "cell_type": "code",
   "execution_count": 4,
   "metadata": {},
   "outputs": [
    {
     "data": {
      "text/plain": [
       "array([0, 1, 1], dtype=uint8)"
      ]
     },
     "execution_count": 4,
     "metadata": {},
     "output_type": "execute_result"
    }
   ],
   "source": [
    "a = np.array([1,0,1], dtype=\"uint8\")\n",
    "b = np.array([1,1], dtype=\"uint8\")\n",
    "gf2_add(a,b)"
   ]
  },
  {
   "cell_type": "code",
   "execution_count": 5,
   "metadata": {},
   "outputs": [],
   "source": [
    "def gf2_mul(a, b):\n",
    "    m=np.convolve(a,b)\n",
    "    return strip_zeros(np.mod(m,2))"
   ]
  },
  {
   "cell_type": "code",
   "execution_count": 6,
   "metadata": {},
   "outputs": [
    {
     "data": {
      "text/plain": [
       "array([1, 1, 0, 1, 1], dtype=uint8)"
      ]
     },
     "execution_count": 6,
     "metadata": {},
     "output_type": "execute_result"
    }
   ],
   "source": [
    "a = np.array([1,0,1], dtype=\"uint8\")\n",
    "b = np.array([1,1,1], dtype=\"uint8\")\n",
    "gf2_mul(a,b)"
   ]
  },
  {
   "cell_type": "code",
   "execution_count": 7,
   "metadata": {},
   "outputs": [],
   "source": [
    "def gf2_div(a, b):\n",
    "    a, b = strip_zeros(a), strip_zeros(b)\n",
    "\n",
    "    if not b.any(): \n",
    "        return \"error\"\n",
    "    elif len(b) > len(a):\n",
    "        q = np.array([])\n",
    "        return q, a\n",
    "\n",
    "    else:\n",
    "        u = a.astype(\"uint8\")\n",
    "        v = b.astype(\"uint8\")\n",
    "\n",
    "        m = len(u) - 1\n",
    "        n = len(v) - 1\n",
    "        q = np.zeros((max(m - n + 1, 1),), \"uint8\")\n",
    "        r = u.astype(\"uint8\")\n",
    "\n",
    "        for k in range(0, m - n + 1):\n",
    "            d = r[m - k].astype(\"uint8\")\n",
    "            q[-1 - k] = d\n",
    "            r[m - k - n:m - k + 1] = xor(r[m - k - n:m - k + 1], and_(d, v))\n",
    "\n",
    "        r = strip_zeros(r)\n",
    "\n",
    "    return q, r"
   ]
  },
  {
   "cell_type": "code",
   "execution_count": 16,
   "metadata": {},
   "outputs": [
    {
     "data": {
      "text/plain": [
       "array([ True,  True,  True,  True,  True,  True,  True,  True,  True,\n",
       "        True,  True,  True,  True])"
      ]
     },
     "execution_count": 16,
     "metadata": {},
     "output_type": "execute_result"
    }
   ],
   "source": [
    "x = np.array([0, 0, 1, 0, 0, 0, 0, 1, 0, 0, 0, 0, 1], dtype=\"uint8\")\n",
    "y = np.array([1, 0, 0, 0, 1], dtype=\"uint8\")\n",
    "\n",
    "a,b = gf2_div(x, y)\n",
    "gf2_add(gf2_mul(a,y),b) == x"
   ]
  },
  {
   "cell_type": "code",
   "execution_count": 18,
   "metadata": {},
   "outputs": [
    {
     "data": {
      "text/plain": [
       "array([1, 0, 1, 1], dtype=uint8)"
      ]
     },
     "execution_count": 18,
     "metadata": {},
     "output_type": "execute_result"
    }
   ],
   "source": [
    "b"
   ]
  },
  {
   "cell_type": "code",
   "execution_count": 9,
   "metadata": {},
   "outputs": [],
   "source": [
    "def GF2_polynomial_sum(poly1, poly2):\n",
    "    l1 = len(poly1)\n",
    "    l2 = len(poly2)\n",
    "\n",
    "    if l1 < l2:\n",
    "        poly1 = '0'*(l2-l1) + poly1\n",
    "    elif l2 < l1:\n",
    "        poly2 = '0'*(l1-l2) + poly2\n",
    "    else:\n",
    "        pass\n",
    "\n",
    "    sum_list = [((int(x) + int(y))%2) for x,y in zip(list(poly1),list(poly2))]\n",
    "    leading_zeroes = True\n",
    "    while leading_zeroes == True:\n",
    "        if len(sum_list) == 1:\n",
    "            leading_zeroes = False\n",
    "        elif sum_list[0] == 0:\n",
    "            del sum_list[0]\n",
    "        else:\n",
    "            leading_zeroes = False\n",
    "    sum = ''\n",
    "    for x in sum_list:\n",
    "        sum += str(x)\n",
    "    return sum"
   ]
  },
  {
   "cell_type": "code",
   "execution_count": 10,
   "metadata": {},
   "outputs": [],
   "source": [
    "# Polynomial multiplication in GF(2)\n",
    "def GF2_polynomial_product(poly1, poly2):\n",
    "    l1 = len(poly1)\n",
    "    l2 = len(poly2)\n",
    "\n",
    "    l = l1+l2-1\n",
    "    poly1 = list(poly1)\n",
    "    poly1.reverse()\n",
    "\n",
    "    poly2 = list(poly2)\n",
    "    poly2.reverse()\n",
    "    product_list = [0]*l\n",
    "    for i in range(0,l1):\n",
    "        for j in range(0,l2):\n",
    "            c = int(poly1[i])*int(poly2[j])\n",
    "            product_list[i+j] = ((product_list[i+j] + c) % 2)\n",
    "\n",
    "    product_list.reverse()\n",
    "    product = ''\n",
    "    for x in product_list:\n",
    "        product += str(x)\n",
    "\n",
    "    return product"
   ]
  },
  {
   "cell_type": "code",
   "execution_count": 11,
   "metadata": {},
   "outputs": [],
   "source": [
    "def GF2_polynomial_remainder(dividend,divisor):\n",
    "\n",
    "    if divisor == '0':\n",
    "        print(\"division by 0\")\n",
    "        return None\n",
    "    if divisor == '1':\n",
    "        return '0'\n",
    "\n",
    "    while len(dividend) >= len(divisor):\n",
    "\n",
    "        deg_dividend = len(dividend)\n",
    "        deg_divisor = len(divisor)\n",
    "        shift = deg_dividend - deg_divisor\n",
    "\n",
    "        # Calculate the shift of the divisor.\n",
    "        shifted_factor = '1' + '0'*shift\n",
    "        shifted_divisor = GF2_polynomial_product(shifted_factor,divisor)\n",
    "\n",
    "        dividend = GF2_polynomial_sum(dividend, shifted_divisor)\n",
    "\n",
    "    return dividend"
   ]
  },
  {
   "cell_type": "code",
   "execution_count": 12,
   "metadata": {},
   "outputs": [],
   "source": [
    "def GF2_polynomial_quotient(dividend,divisor):\n",
    "    quotient = ['0']*((len(dividend)-len(divisor))+1)\n",
    "    if divisor == '0':\n",
    "        print(\"division by 0\")\n",
    "        return None\n",
    "\n",
    "    if divisor == '1':\n",
    "        return dividend\n",
    "\n",
    "    while len(dividend) >= len(divisor):\n",
    "        deg_dividend = len(dividend)\n",
    "        deg_divisor = len(divisor)\n",
    "        shift = deg_dividend - deg_divisor\n",
    "        quotient[(len(quotient) - (shift+1))] = '1'\n",
    "\n",
    "        shifted_factor = '1' + '0'*shift\n",
    "        shifted_divisor = GF2_polynomial_product(shifted_factor,divisor)\n",
    "      \n",
    "        dividend = GF2_polynomial_sum(dividend, shifted_divisor)\n",
    "        \n",
    "    quotient_str = ''\n",
    "    for x in quotient:\n",
    "        quotient_str += str(x)\n",
    "\n",
    "    return quotient_str"
   ]
  },
  {
   "cell_type": "code",
   "execution_count": 13,
   "metadata": {},
   "outputs": [
    {
     "data": {
      "text/plain": [
       "'10'"
      ]
     },
     "execution_count": 13,
     "metadata": {},
     "output_type": "execute_result"
    }
   ],
   "source": [
    "a = '101'\n",
    "b = '111'\n",
    "GF2_polynomial_sum(a,b)"
   ]
  },
  {
   "cell_type": "code",
   "execution_count": 14,
   "metadata": {},
   "outputs": [
    {
     "data": {
      "text/plain": [
       "'11011'"
      ]
     },
     "execution_count": 14,
     "metadata": {},
     "output_type": "execute_result"
    }
   ],
   "source": [
    "a = '101'\n",
    "b = '111'\n",
    "GF2_polynomial_product(a,b)"
   ]
  },
  {
   "cell_type": "code",
   "execution_count": 24,
   "metadata": {},
   "outputs": [
    {
     "name": "stdout",
     "output_type": "stream",
     "text": [
      "1001\n",
      "0\n"
     ]
    }
   ],
   "source": [
    "a='1100101'\n",
    "b='1101'\n",
    "print(GF2_polynomial_quotient(a,b))\n",
    "print(GF2_polynomial_remainder(a,b))\n"
   ]
  },
  {
   "cell_type": "code",
   "execution_count": null,
   "metadata": {},
   "outputs": [],
   "source": [
    "#!/bin/python3\n",
    "\n",
    "import numpy as np\n",
    "\n",
    "\n",
    "def number_to_binary_array(n, r):\n",
    "    \"\"\"\n",
    "    input integer\n",
    "    output binary representation of integer as values in an array that can hold numbers less than 2^r\n",
    "    \"\"\"\n",
    "    res = [int(i) for i in bin(n)[2:]]\n",
    "    while len(res) < r:\n",
    "        res = [0] + res\n",
    "    return res\n",
    "\n",
    "\n",
    "def make_identity_matrix(n):\n",
    "    \"\"\"\n",
    "    input n\n",
    "    output list of lists, identity matrix I_n\n",
    "    \"\"\"\n",
    "    return [number_to_binary_array(2**i, n) for i in reversed(range(n))]\n",
    "\n",
    "\n",
    "def make_extended_Golay_generator():\n",
    "    \"\"\"\n",
    "    returns the generator for the extended Golay code\n",
    "    \"\"\"\n",
    "    B = [[1, 1, 0, 1, 1, 1, 0, 0, 0, 1, 0]]\n",
    "    for _ in range(10):\n",
    "        next_line = B[-1][:]\n",
    "        next_line = next_line + [next_line.pop(0)]\n",
    "        B.append(next_line)\n",
    "    j = [[1]*11]\n",
    "    G_extended = np.concatenate((np.array(B), np.array(j)))\n",
    "    j_0 = [[1]]*11 + [[0]]\n",
    "    G_extended = np.concatenate((np.array(G_extended), np.array(j_0)), axis=1)\n",
    "    Id_12 = make_identity_matrix(12)\n",
    "    G_extended = np.concatenate((Id_12, np.array(G_extended)), axis=1)\n",
    "    return G_extended\n",
    "\n",
    "\n",
    "G_extended = np.array([[1, 0, 0, 0, 0, 0, 0, 0, 0, 0, 0, 0, 1, 1, 0, 1, 1, 1, 0, 0, 0, 1, 0, 1],\n",
    "                       [0, 1, 0, 0, 0, 0, 0, 0, 0, 0, 0, 0, 1, 0, 1, 1, 1, 0, 0, 0, 1, 0, 1, 1],\n",
    "                       [0, 0, 1, 0, 0, 0, 0, 0, 0, 0, 0, 0, 0, 1, 1, 1, 0, 0, 0, 1, 0, 1, 1, 1],\n",
    "                       [0, 0, 0, 1, 0, 0, 0, 0, 0, 0, 0, 0, 1, 1, 1, 0, 0, 0, 1, 0, 1, 1, 0, 1],\n",
    "                       [0, 0, 0, 0, 1, 0, 0, 0, 0, 0, 0, 0, 1, 1, 0, 0, 0, 1, 0, 1, 1, 0, 1, 1],\n",
    "                       [0, 0, 0, 0, 0, 1, 0, 0, 0, 0, 0, 0, 1, 0, 0, 0, 1, 0, 1, 1, 0, 1, 1, 1],\n",
    "                       [0, 0, 0, 0, 0, 0, 1, 0, 0, 0, 0, 0, 0, 0, 0, 1, 0, 1, 1, 0, 1, 1, 1, 1],\n",
    "                       [0, 0, 0, 0, 0, 0, 0, 1, 0, 0, 0, 0, 0, 0, 1, 0, 1, 1, 0, 1, 1, 1, 0, 1],\n",
    "                       [0, 0, 0, 0, 0, 0, 0, 0, 1, 0, 0, 0, 0, 1, 0, 1, 1, 0, 1, 1, 1, 0, 0, 1],\n",
    "                       [0, 0, 0, 0, 0, 0, 0, 0, 0, 1, 0, 0, 1, 0, 1, 1, 0, 1, 1, 1, 0, 0, 0, 1],\n",
    "                       [0, 0, 0, 0, 0, 0, 0, 0, 0, 0, 1, 0, 0, 1, 1, 0, 1, 1, 1, 0, 0, 0, 1, 1],\n",
    "                       [0, 0, 0, 0, 0, 0, 0, 0, 0, 0, 0, 1, 1, 1, 1, 1, 1, 1, 1, 1, 1, 1, 1, 0]])\n",
    "\n",
    "G = np.array([[1, 0, 0, 0, 0, 0, 0, 0, 0, 0, 0, 0, 1, 1, 0, 1, 1, 1, 0, 0, 0, 1, 0],\n",
    "              [0, 1, 0, 0, 0, 0, 0, 0, 0, 0, 0, 0, 1, 0, 1, 1, 1, 0, 0, 0, 1, 0, 1],\n",
    "              [0, 0, 1, 0, 0, 0, 0, 0, 0, 0, 0, 0, 0, 1, 1, 1, 0, 0, 0, 1, 0, 1, 1],\n",
    "              [0, 0, 0, 1, 0, 0, 0, 0, 0, 0, 0, 0, 1, 1, 1, 0, 0, 0, 1, 0, 1, 1, 0],\n",
    "              [0, 0, 0, 0, 1, 0, 0, 0, 0, 0, 0, 0, 1, 1, 0, 0, 0, 1, 0, 1, 1, 0, 1],\n",
    "              [0, 0, 0, 0, 0, 1, 0, 0, 0, 0, 0, 0, 1, 0, 0, 0, 1, 0, 1, 1, 0, 1, 1],\n",
    "              [0, 0, 0, 0, 0, 0, 1, 0, 0, 0, 0, 0, 0, 0, 0, 1, 0, 1, 1, 0, 1, 1, 1],\n",
    "              [0, 0, 0, 0, 0, 0, 0, 1, 0, 0, 0, 0, 0, 0, 1, 0, 1, 1, 0, 1, 1, 1, 0],\n",
    "              [0, 0, 0, 0, 0, 0, 0, 0, 1, 0, 0, 0, 0, 1, 0, 1, 1, 0, 1, 1, 1, 0, 0],\n",
    "              [0, 0, 0, 0, 0, 0, 0, 0, 0, 1, 0, 0, 1, 0, 1, 1, 0, 1, 1, 1, 0, 0, 0],\n",
    "              [0, 0, 0, 0, 0, 0, 0, 0, 0, 0, 1, 0, 0, 1, 1, 0, 1, 1, 1, 0, 0, 0, 1],\n",
    "              [0, 0, 0, 0, 0, 0, 0, 0, 0, 0, 0, 1, 1, 1, 1, 1, 1, 1, 1, 1, 1, 1, 1]])\n",
    "\n",
    "\n",
    "def encode_extended_Golay(info):\n",
    "    global G_extended\n",
    "\n",
    "    if type(info) == str:\n",
    "        info = [int(i) for i in info]\n",
    "        res = info @ G_extended % 2\n",
    "        return ''.join(str(i) for i in res)\n",
    "\n",
    "    if type(info) == list:\n",
    "        return list(info @ G_extended % 2)\n",
    "\n",
    "    if type(info) == np.ndarray:\n",
    "        return info @ G_extended % 2\n",
    "\n",
    "def encode_Golay(info):\n",
    "    global G\n",
    "\n",
    "    if type(info) == str:\n",
    "        info = [int(i) for i in info]\n",
    "        res = info @ G % 2\n",
    "        return ''.join(str(i) for i in res)\n",
    "\n",
    "    if type(info) == list:\n",
    "        return list(info @ G % 2)\n",
    "\n",
    "    if type(info) == np.ndarray:\n",
    "        return info @ G % 2\n",
    "\n",
    "#encode_Golay('010101010101'),'01010101010110110100001'\n",
    "#encode_extended_Golay('101010101010'), '01010101010110110100001'"
   ]
  }
 ],
 "metadata": {
  "kernelspec": {
   "display_name": "Python 3",
   "language": "python",
   "name": "python3"
  },
  "language_info": {
   "codemirror_mode": {
    "name": "ipython",
    "version": 3
   },
   "file_extension": ".py",
   "mimetype": "text/x-python",
   "name": "python",
   "nbconvert_exporter": "python",
   "pygments_lexer": "ipython3",
   "version": "3.6.5"
  }
 },
 "nbformat": 4,
 "nbformat_minor": 2
}
